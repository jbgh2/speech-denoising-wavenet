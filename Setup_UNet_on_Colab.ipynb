{
  "nbformat": 4,
  "nbformat_minor": 0,
  "metadata": {
    "colab": {
      "name": "Setup UNet on Colab.ipynb",
      "provenance": [],
      "collapsed_sections": [],
      "include_colab_link": true
    },
    "kernelspec": {
      "name": "python3",
      "display_name": "Python 3"
    },
    "accelerator": "GPU"
  },
  "cells": [
    {
      "cell_type": "markdown",
      "metadata": {
        "colab_type": "text",
        "id": "view-in-github"
      },
      "source": [
        "<a href=\"https://colab.research.google.com/github/jbgh2/speech-denoising-wavenet/blob/master/Setup_UNet_on_Colab.ipynb\" target=\"_parent\"><img src=\"https://colab.research.google.com/assets/colab-badge.svg\" alt=\"Open In Colab\"/></a>"
      ]
    },
    {
      "cell_type": "code",
      "execution_count": 1,
      "metadata": {},
      "outputs": [
        {
          "name": "stdout",
          "output_type": "stream",
          "text": "Running on colab: False\nBase dir: c:\\Users\\benhe\\Projects\\External\\DenoisingUNet\n"
        }
      ],
      "source": [
        "on_colab = True\n",
        "try:\n",
        "    from google.colab import drive\n",
        "except:\n",
        "    on_colab = False\n",
        "    \n",
        "print(\"Running on colab:\", on_colab)\n",
        "\n",
        "import os\n",
        "import pathlib\n",
        "\n",
        "if on_colab:\n",
        "    drive.mount('/content/gdrive') #, force_remount=True \n",
        "    BASE_DIR = \"/content/gdrive/My Drive/Colab Notebooks\"\n",
        "    unet_path = os.path.join(BASE_DIR, \"DenoiseUNet\")\n",
        "else:\n",
        "    BASE_DIR = os.path.join(os.getcwd())\n",
        "    unet_path = BASE_DIR\n",
        "\n",
        "print(\"Base dir:\", BASE_DIR)"
      ]
    },
    {
      "cell_type": "code",
      "execution_count": 2,
      "metadata": {},
      "outputs": [],
      "source": [
        "#setup directories\n",
        "#Data\n",
        "data_dir = os.path.join(unet_path, \"data\")\n",
        "nstd_dir = os.path.join(data_dir, \"NSDTSEA\")\n",
        "os.makedirs(nstd_dir, exist_ok=True)\n",
        "\n",
        "#Git\n",
        "repo = \"https://github.com/jbgh2/speech-denoising-wavenet\"\n",
        "\n",
        "#Training/test data\n",
        "data_file = \"DS_10283_1942.zip\"\n",
        "data_url = f\"http://datashare.is.ed.ac.uk/download/{data_file}\" \n",
        "target_file = os.path.join(data_dir, data_file)\n",
        "\n"
      ]
    },
    {
      "cell_type": "code",
      "execution_count": 45,
      "metadata": {
        "colab": {
          "base_uri": "https://localhost:8080/",
          "height": 34
        },
        "colab_type": "code",
        "id": "kjOBkAaXJ9Bg",
        "outputId": "d698da98-7ef2-4b50-d1f6-735504f424fe"
      },
      "outputs": [
        {
          "name": "stdout",
          "output_type": "stream",
          "text": [
            "Already up to date.\n"
          ]
        }
      ],
      "source": [
        "#Clone repo into dir or pull\n",
        "if not os.path.exists(os.path.join(unet_path, \".git\")):\n",
        "    !git clone {repo} '{unet_path}'\n",
        "else:\n",
        "    !git -C '{unet_path}' pull #-C changes dir first"
      ]
    },
    {
      "cell_type": "code",
      "execution_count": 46,
      "metadata": {
        "colab": {
          "base_uri": "https://localhost:8080/",
          "height": 34
        },
        "colab_type": "code",
        "id": "DmBBKGyVM76_",
        "outputId": "f6bef688-a8ed-415c-9f43-430d8b497a45"
      },
      "outputs": [
        {
          "name": "stdout",
          "output_type": "stream",
          "text": [
            "Main zip found at /content/gdrive/My Drive/Colab Notebooks/DenoiseUNet/data/DS_10283_1942.zip, skipping download\n"
          ]
        }
      ],
      "source": [
        "#Download test/train set\n",
        "if not os.path.isfile(target_file):\n",
        "    !wget -O '{target_file}' {data_url}\n",
        "else:\n",
        "    print(f\"Main zip found at {target_file}, skipping download\")"
      ]
    },
    {
      "cell_type": "code",
      "execution_count": 43,
      "metadata": {
        "colab": {
          "base_uri": "https://localhost:8080/",
          "height": 34
        },
        "colab_type": "code",
        "id": "bsYSzjR1M9S0",
        "outputId": "a0c9cff6-fb7f-48a8-c3f7-d9cdd42d7071"
      },
      "outputs": [
        {
          "name": "stdout",
          "output_type": "stream",
          "text": [
            "Found zip files in /content/gdrive/My Drive/Colab Notebooks/DenoiseUNet/data/NSDTSEA, skipping unzip of /content/gdrive/My Drive/Colab Notebooks/DenoiseUNet/data/DS_10283_1942.zip\n"
          ]
        }
      ],
      "source": [
        "#Unzip main zip file\n",
        "zips = list(pathlib.Path(nstd_dir).glob('*.zip'))\n",
        "if len(zips) == 0:    \n",
        "    !unzip '{target_file}' -d '{nstd_dir}'\n",
        "else:\n",
        "    print(f\"Found zip files in {nstd_dir}, skipping unzip of {target_file}\")"
      ]
    },
    {
      "cell_type": "code",
      "execution_count": 40,
      "metadata": {
        "colab": {
          "base_uri": "https://localhost:8080/",
          "height": 119
        },
        "colab_type": "code",
        "id": "EThGapekOHHd",
        "outputId": "32bfc1ce-adb4-42db-8c44-21e21885bf2c"
      },
      "outputs": [
        {
          "name": "stdout",
          "output_type": "stream",
          "text": [
            "/content/gdrive/My Drive/Colab Notebooks/DenoiseUNet/data/NSDTSEA/clean_trainset_wav exists, skipping unzip\n",
            "/content/gdrive/My Drive/Colab Notebooks/DenoiseUNet/data/NSDTSEA/noisy_trainset_wav exists, skipping unzip\n",
            "/content/gdrive/My Drive/Colab Notebooks/DenoiseUNet/data/NSDTSEA/noisy_testset_wav exists, skipping unzip\n",
            "/content/gdrive/My Drive/Colab Notebooks/DenoiseUNet/data/NSDTSEA/clean_testset_wav exists, skipping unzip\n",
            "/content/gdrive/My Drive/Colab Notebooks/DenoiseUNet/data/NSDTSEA/trainset_txt exists, skipping unzip\n",
            "/content/gdrive/My Drive/Colab Notebooks/DenoiseUNet/data/NSDTSEA/testset_txt exists, skipping unzip\n"
          ]
        }
      ],
      "source": [
        "#Unzip all the sub-zip files\n",
        "import pathlib\n",
        "zips = pathlib.Path(nstd_dir).glob('*.zip')\n",
        "for z in zips:\n",
        "    dataset_name, _ = os.path.splitext(os.path.basename(z))\n",
        "    dataset_path = os.path.join(nstd_dir, dataset_name)\n",
        "    if not os.path.exists(dataset_path):\n",
        "        print(f\"Unzipping {z} to {dataset_path}\")\n",
        "        !unzip '{z}' -d '{dataset_path}'\n",
        "    else:\n",
        "        print(f\"{dataset_path} exists, skipping unzip\")"
      ]
    },
    {
      "cell_type": "code",
      "execution_count": 64,
      "metadata": {
        "colab": {
          "base_uri": "https://localhost:8080/",
          "height": 119
        },
        "colab_type": "code",
        "id": "9BMfULU8UbIn",
        "outputId": "a7b46e8e-ca00-49e1-9ed2-ec8e076b4437"
      },
      "outputs": [
        {
          "name": "stdout",
          "output_type": "stream",
          "text": [
            "11572 files in clean_trainset_wav\n",
            "11572 files in noisy_trainset_wav\n",
            "825 files in noisy_testset_wav\n",
            "825 files in clean_testset_wav\n",
            "11574 files in trainset_txt\n",
            "825 files in testset_txt\n"
          ]
        }
      ],
      "source": [
        "#Fix the misaligned sub-directories. Move files up one level\n",
        "for p in os.listdir(nstd_dir):\n",
        "    #print(p)\n",
        "    full_path = os.path.join(nstd_dir, p)\n",
        "    if os.path.isdir(full_path):\n",
        "        num_files = len(os.listdir(full_path))\n",
        "        print(f\"{num_files} files in {p}\")\n",
        "        if num_files < 3:\n",
        "            tgt_dir = os.path.join(nstd_dir, p)\n",
        "            src_dir = os.path.join(tgt_dir, p)\n",
        "            print(f\"Move files from {src_dir} to {tgt_dir}\")\n",
        "\n",
        "            if os.path.isdir(src_dir) and os.path.isdir(tgt_dir):\n",
        "                !mv \"{src_dir}\"/* '{tgt_dir}/'  \n",
        "                pass          "
      ]
    },
    {
      "cell_type": "code",
      "execution_count": 0,
      "metadata": {
        "colab": {},
        "colab_type": "code",
        "id": "Od5mr1M4laIR"
      },
      "outputs": [],
      "source": []
    }
  ]
}